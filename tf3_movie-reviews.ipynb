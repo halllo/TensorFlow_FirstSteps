{
 "cells": [
  {
   "cell_type": "markdown",
   "metadata": {},
   "source": [
    "# Movie Review Text Classification\n",
    "This tutorial https://www.tensorflow.org/tutorials/keras/text_classification_with_hub"
   ]
  },
  {
   "cell_type": "code",
   "execution_count": 1,
   "metadata": {},
   "outputs": [
    {
     "output_type": "stream",
     "name": "stdout",
     "text": "Version:  2.1.0\nEager mode:  True\nHub version:  0.8.0\nGPU is NOT AVAILABLE\n"
    }
   ],
   "source": [
    "import numpy as np\n",
    "\n",
    "import tensorflow as tf\n",
    "\n",
    "!pip install -q tensorflow-hub\n",
    "!pip install -q tfds-nightly\n",
    "import tensorflow_hub as hub\n",
    "import tensorflow_datasets as tfds\n",
    "\n",
    "print(\"Version: \", tf.__version__)\n",
    "print(\"Eager mode: \", tf.executing_eagerly())\n",
    "print(\"Hub version: \", hub.__version__)\n",
    "print(\"GPU is\", \"available\" if tf.config.experimental.list_physical_devices(\"GPU\") else \"NOT AVAILABLE\")"
   ]
  },
  {
   "cell_type": "code",
   "execution_count": 2,
   "metadata": {},
   "outputs": [
    {
     "output_type": "stream",
     "name": "stdout",
     "text": "\u001b[1mDownloading and preparing dataset imdb_reviews/plain_text/1.0.0 (download: 80.23 MiB, generated: Unknown size, total: 80.23 MiB) to /home/jovyan/tensorflow_datasets/imdb_reviews/plain_text/1.0.0...\u001b[0m\n"
    },
    {
     "output_type": "display_data",
     "data": {
      "text/plain": "HBox(children=(FloatProgress(value=1.0, bar_style='info', description='Dl Completed...', max=1.0, style=Progre…",
      "application/vnd.jupyter.widget-view+json": {
       "version_major": 2,
       "version_minor": 0,
       "model_id": "4e64192da140476bb2490b4e2ee59721"
      }
     },
     "metadata": {}
    },
    {
     "output_type": "display_data",
     "data": {
      "text/plain": "HBox(children=(FloatProgress(value=1.0, bar_style='info', description='Dl Size...', max=1.0, style=ProgressSty…",
      "application/vnd.jupyter.widget-view+json": {
       "version_major": 2,
       "version_minor": 0,
       "model_id": "08570884257545f08e30e966d6a67c2b"
      }
     },
     "metadata": {}
    },
    {
     "output_type": "stream",
     "name": "stdout",
     "text": "\n\n\n\n"
    },
    {
     "output_type": "display_data",
     "data": {
      "text/plain": "HBox(children=(FloatProgress(value=1.0, bar_style='info', max=1.0), HTML(value='')))",
      "application/vnd.jupyter.widget-view+json": {
       "version_major": 2,
       "version_minor": 0,
       "model_id": "2b8bd700dc5b4694a0916b935364577c"
      }
     },
     "metadata": {}
    },
    {
     "output_type": "stream",
     "name": "stdout",
     "text": "Shuffling and writing examples to /home/jovyan/tensorflow_datasets/imdb_reviews/plain_text/1.0.0.incompleteUYE5W8/imdb_reviews-train.tfrecord\n"
    },
    {
     "output_type": "display_data",
     "data": {
      "text/plain": "HBox(children=(FloatProgress(value=0.0, max=25000.0), HTML(value='')))",
      "application/vnd.jupyter.widget-view+json": {
       "version_major": 2,
       "version_minor": 0,
       "model_id": "9bd7a0b55cf54db8ad3049e2c103c89e"
      }
     },
     "metadata": {}
    },
    {
     "output_type": "display_data",
     "data": {
      "text/plain": "HBox(children=(FloatProgress(value=1.0, bar_style='info', max=1.0), HTML(value='')))",
      "application/vnd.jupyter.widget-view+json": {
       "version_major": 2,
       "version_minor": 0,
       "model_id": "00db038a0b9f48d5a6320da4d48d10f9"
      }
     },
     "metadata": {}
    },
    {
     "output_type": "stream",
     "name": "stdout",
     "text": "Shuffling and writing examples to /home/jovyan/tensorflow_datasets/imdb_reviews/plain_text/1.0.0.incompleteUYE5W8/imdb_reviews-test.tfrecord\n"
    },
    {
     "output_type": "display_data",
     "data": {
      "text/plain": "HBox(children=(FloatProgress(value=0.0, max=25000.0), HTML(value='')))",
      "application/vnd.jupyter.widget-view+json": {
       "version_major": 2,
       "version_minor": 0,
       "model_id": "7c76c7b526e4408cab4ecc401e873b95"
      }
     },
     "metadata": {}
    },
    {
     "output_type": "display_data",
     "data": {
      "text/plain": "HBox(children=(FloatProgress(value=1.0, bar_style='info', max=1.0), HTML(value='')))",
      "application/vnd.jupyter.widget-view+json": {
       "version_major": 2,
       "version_minor": 0,
       "model_id": "79ec8b38f74341b588ffc7ef4389483a"
      }
     },
     "metadata": {}
    },
    {
     "output_type": "stream",
     "name": "stdout",
     "text": "Shuffling and writing examples to /home/jovyan/tensorflow_datasets/imdb_reviews/plain_text/1.0.0.incompleteUYE5W8/imdb_reviews-unsupervised.tfrecord\n"
    },
    {
     "output_type": "display_data",
     "data": {
      "text/plain": "HBox(children=(FloatProgress(value=0.0, max=50000.0), HTML(value='')))",
      "application/vnd.jupyter.widget-view+json": {
       "version_major": 2,
       "version_minor": 0,
       "model_id": "303c7dd7d6f3413ab50d71128ce05848"
      }
     },
     "metadata": {}
    },
    {
     "output_type": "stream",
     "name": "stdout",
     "text": "\u001b[1mDataset imdb_reviews downloaded and prepared to /home/jovyan/tensorflow_datasets/imdb_reviews/plain_text/1.0.0. Subsequent calls will reuse this data.\u001b[0m\n"
    }
   ],
   "source": [
    "# Split the training set into 60% and 40%, so we'll end up with 15,000 examples\n",
    "# for training, 10,000 examples for validation and 25,000 examples for testing.\n",
    "train_data, validation_data, test_data = tfds.load(\n",
    "    name=\"imdb_reviews\", \n",
    "    split=('train[:60%]', 'train[60%:]', 'test'),\n",
    "    as_supervised=True)"
   ]
  },
  {
   "cell_type": "code",
   "execution_count": 3,
   "metadata": {},
   "outputs": [
    {
     "output_type": "execute_result",
     "data": {
      "text/plain": "(<tf.Tensor: shape=(5,), dtype=string, numpy=\n array([b\"This was an absolutely terrible movie. Don't be lured in by Christopher Walken or Michael Ironside. Both are great actors, but this must simply be their worst role in history. Even their great acting could not redeem this movie's ridiculous storyline. This movie is an early nineties US propaganda piece. The most pathetic scenes were those when the Columbian rebels were making their cases for revolutions. Maria Conchita Alonso appeared phony, and her pseudo-love affair with Walken was nothing but a pathetic emotional plug in a movie that was devoid of any real meaning. I am disappointed that there are movies like this, ruining actor's like Christopher Walken's good name. I could barely sit through it.\",\n        b'I have been known to fall asleep during films, but this is usually due to a combination of things including, really tired, being warm and comfortable on the sette and having just eaten a lot. However on this occasion I fell asleep because the film was rubbish. The plot development was constant. Constantly slow and boring. Things seemed to happen, but with no explanation of what was causing them or why. I admit, I may have missed part of the film, but i watched the majority of it and everything just seemed to happen of its own accord without any real concern for anything else. I cant recommend this film at all.',\n        b'Mann photographs the Alberta Rocky Mountains in a superb fashion, and Jimmy Stewart and Walter Brennan give enjoyable performances as they always seem to do. <br /><br />But come on Hollywood - a Mountie telling the people of Dawson City, Yukon to elect themselves a marshal (yes a marshal!) and to enforce the law themselves, then gunfighters battling it out on the streets for control of the town? <br /><br />Nothing even remotely resembling that happened on the Canadian side of the border during the Klondike gold rush. Mr. Mann and company appear to have mistaken Dawson City for Deadwood, the Canadian North for the American Wild West.<br /><br />Canadian viewers be prepared for a Reefer Madness type of enjoyable howl with this ludicrous plot, or, to shake your head in disgust.',\n        b'This is the kind of film for a snowy Sunday afternoon when the rest of the world can go ahead with its own business as you descend into a big arm-chair and mellow for a couple of hours. Wonderful performances from Cher and Nicolas Cage (as always) gently row the plot along. There are no rapids to cross, no dangerous waters, just a warm and witty paddle through New York life at its best. A family film in every sense and one that deserves the praise it received.',\n        b'As others have mentioned, all the women that go nude in this film are mostly absolutely gorgeous. The plot very ably shows the hypocrisy of the female libido. When men are around they want to be pursued, but when no \"men\" are around, they become the pursuers of a 14 year old boy. And the boy becomes a man really fast (we should all be so lucky at this age!). He then gets up the courage to pursue his true love.'],\n       dtype=object)>,\n <tf.Tensor: shape=(5,), dtype=int64, numpy=array([0, 0, 0, 1, 1])>)"
     },
     "metadata": {},
     "execution_count": 3
    }
   ],
   "source": [
    "train_examples_batch, train_labels_batch = next(iter(train_data.batch(5)))\n",
    "train_examples_batch, train_labels_batch"
   ]
  },
  {
   "cell_type": "code",
   "execution_count": 4,
   "metadata": {},
   "outputs": [
    {
     "output_type": "execute_result",
     "data": {
      "text/plain": "<tf.Tensor: shape=(3, 20), dtype=float32, numpy=\narray([[ 1.765786  , -3.882232  ,  3.9134233 , -1.5557289 , -3.3362343 ,\n        -1.7357955 , -1.9954445 ,  1.2989551 ,  5.081598  , -1.1041286 ,\n        -2.0503852 , -0.72675157, -0.65675956,  0.24436149, -3.7208383 ,\n         2.0954835 ,  2.2969332 , -2.0689783 , -2.9489717 , -1.1315987 ],\n       [ 1.8804485 , -2.5852382 ,  3.4066997 ,  1.0982676 , -4.056685  ,\n        -4.891284  , -2.785554  ,  1.3874227 ,  3.8476458 , -0.9256538 ,\n        -1.896706  ,  1.2113281 ,  0.11474707,  0.76209456, -4.8791065 ,\n         2.906149  ,  4.7087674 , -2.3652055 , -3.5015898 , -1.6390051 ],\n       [ 0.71152234, -0.6353217 ,  1.7385626 , -1.1168286 , -0.5451594 ,\n        -1.1808156 ,  0.09504455,  1.4653089 ,  0.66059524,  0.79308075,\n        -2.2268345 ,  0.07446612, -1.4075904 , -0.70645386, -1.907037  ,\n         1.4419787 ,  1.9551861 , -0.42660055, -2.8022065 ,  0.43727064]],\n      dtype=float32)>"
     },
     "metadata": {},
     "execution_count": 4
    }
   ],
   "source": [
    "embedding = \"https://tfhub.dev/google/tf2-preview/gnews-swivel-20dim/1\"\n",
    "hub_layer = hub.KerasLayer(embedding, input_shape=[], \n",
    "                           dtype=tf.string, trainable=True)\n",
    "hub_layer(train_examples_batch[:3])"
   ]
  },
  {
   "cell_type": "code",
   "execution_count": 5,
   "metadata": {},
   "outputs": [
    {
     "output_type": "stream",
     "name": "stdout",
     "text": "Model: \"sequential\"\n_________________________________________________________________\nLayer (type)                 Output Shape              Param #   \n=================================================================\nkeras_layer (KerasLayer)     (None, 20)                400020    \n_________________________________________________________________\ndense (Dense)                (None, 16)                336       \n_________________________________________________________________\ndense_1 (Dense)              (None, 1)                 17        \n=================================================================\nTotal params: 400,373\nTrainable params: 400,373\nNon-trainable params: 0\n_________________________________________________________________\n"
    }
   ],
   "source": [
    "model = tf.keras.Sequential()\n",
    "model.add(hub_layer)\n",
    "model.add(tf.keras.layers.Dense(16, activation='relu'))\n",
    "model.add(tf.keras.layers.Dense(1))\n",
    "\n",
    "model.summary()"
   ]
  },
  {
   "cell_type": "code",
   "execution_count": 6,
   "metadata": {},
   "outputs": [],
   "source": [
    "model.compile(optimizer='adam',\n",
    "              loss=tf.keras.losses.BinaryCrossentropy(from_logits=True),\n",
    "              metrics=['accuracy'])"
   ]
  },
  {
   "cell_type": "code",
   "execution_count": 7,
   "metadata": {},
   "outputs": [
    {
     "output_type": "stream",
     "name": "stdout",
     "text": "Epoch 1/20\n30/30 [==============================] - 4s 135ms/step - loss: 1.8944 - accuracy: 0.5061 - val_loss: 0.9137 - val_accuracy: 0.5416\nEpoch 2/20\n30/30 [==============================] - 4s 121ms/step - loss: 0.7060 - accuracy: 0.6239 - val_loss: 0.6551 - val_accuracy: 0.6420\nEpoch 3/20\n30/30 [==============================] - 4s 123ms/step - loss: 0.6297 - accuracy: 0.6532 - val_loss: 0.6217 - val_accuracy: 0.6536\nEpoch 4/20\n30/30 [==============================] - 4s 122ms/step - loss: 0.5967 - accuracy: 0.6762 - val_loss: 0.5956 - val_accuracy: 0.6690\nEpoch 5/20\n30/30 [==============================] - 4s 126ms/step - loss: 0.5692 - accuracy: 0.6949 - val_loss: 0.5721 - val_accuracy: 0.6872\nEpoch 6/20\n30/30 [==============================] - 4s 132ms/step - loss: 0.5456 - accuracy: 0.7134 - val_loss: 0.5495 - val_accuracy: 0.7105\nEpoch 7/20\n30/30 [==============================] - 4s 123ms/step - loss: 0.5200 - accuracy: 0.7313 - val_loss: 0.5274 - val_accuracy: 0.7234\nEpoch 8/20\n30/30 [==============================] - 4s 123ms/step - loss: 0.4955 - accuracy: 0.7541 - val_loss: 0.5052 - val_accuracy: 0.7451\nEpoch 9/20\n30/30 [==============================] - 4s 121ms/step - loss: 0.4695 - accuracy: 0.7728 - val_loss: 0.4836 - val_accuracy: 0.7643\nEpoch 10/20\n30/30 [==============================] - 4s 119ms/step - loss: 0.4440 - accuracy: 0.7947 - val_loss: 0.4619 - val_accuracy: 0.7754\nEpoch 11/20\n30/30 [==============================] - 4s 126ms/step - loss: 0.4177 - accuracy: 0.8091 - val_loss: 0.4416 - val_accuracy: 0.7837\nEpoch 12/20\n30/30 [==============================] - 4s 120ms/step - loss: 0.3926 - accuracy: 0.8218 - val_loss: 0.4223 - val_accuracy: 0.8070\nEpoch 13/20\n30/30 [==============================] - 4s 123ms/step - loss: 0.3674 - accuracy: 0.8418 - val_loss: 0.4038 - val_accuracy: 0.8115\nEpoch 14/20\n30/30 [==============================] - 4s 122ms/step - loss: 0.3434 - accuracy: 0.8529 - val_loss: 0.3872 - val_accuracy: 0.8267\nEpoch 15/20\n30/30 [==============================] - 4s 122ms/step - loss: 0.3221 - accuracy: 0.8655 - val_loss: 0.3734 - val_accuracy: 0.8285\nEpoch 16/20\n30/30 [==============================] - 4s 129ms/step - loss: 0.3005 - accuracy: 0.8747 - val_loss: 0.3604 - val_accuracy: 0.8363\nEpoch 17/20\n30/30 [==============================] - 4s 126ms/step - loss: 0.2837 - accuracy: 0.8852 - val_loss: 0.3490 - val_accuracy: 0.8451\nEpoch 18/20\n30/30 [==============================] - 4s 124ms/step - loss: 0.2665 - accuracy: 0.8953 - val_loss: 0.3401 - val_accuracy: 0.8497\nEpoch 19/20\n30/30 [==============================] - 4s 122ms/step - loss: 0.2501 - accuracy: 0.9031 - val_loss: 0.3317 - val_accuracy: 0.8544\nEpoch 20/20\n30/30 [==============================] - 4s 123ms/step - loss: 0.2342 - accuracy: 0.9123 - val_loss: 0.3247 - val_accuracy: 0.8544\n"
    }
   ],
   "source": [
    "history = model.fit(train_data.shuffle(10000).batch(512),\n",
    "                    epochs=20,\n",
    "                    validation_data=validation_data.batch(512),\n",
    "                    verbose=1)"
   ]
  },
  {
   "cell_type": "code",
   "execution_count": 8,
   "metadata": {},
   "outputs": [
    {
     "output_type": "stream",
     "name": "stdout",
     "text": "loss: 0.337\naccuracy: 0.841\n"
    }
   ],
   "source": [
    "results = model.evaluate(test_data.batch(512), verbose=2)\n",
    "\n",
    "for name, value in zip(model.metrics_names, results):\n",
    "  print(\"%s: %.3f\" % (name, value))"
   ]
  },
  {
   "cell_type": "code",
   "execution_count": 24,
   "metadata": {},
   "outputs": [],
   "source": [
    "probability_model = tf.keras.Sequential([\n",
    "  model,\n",
    "  tf.keras.layers.Activation('sigmoid')\n",
    "])"
   ]
  },
  {
   "cell_type": "code",
   "execution_count": 68,
   "metadata": {},
   "outputs": [
    {
     "output_type": "stream",
     "name": "stdout",
     "text": "actually 1 predicted 0.34429654 \u001b[31m\"wrong\"\u001b[0m\nactually 1 predicted 0.78447926 \u001b[32m\"correct\"\u001b[0m\nactually 0 predicted 0.11251615 \u001b[32m\"correct\"\u001b[0m\nactually 0 predicted 0.11195168 \u001b[32m\"correct\"\u001b[0m\nactually 1 predicted 0.97021717 \u001b[32m\"correct\"\u001b[0m\nactually 1 predicted 0.9434293 \u001b[32m\"correct\"\u001b[0m\nactually 1 predicted 0.995685 \u001b[32m\"correct\"\u001b[0m\nactually 1 predicted 0.9760321 \u001b[32m\"correct\"\u001b[0m\nactually 0 predicted 0.6191602 \u001b[31m\"wrong\"\u001b[0m\nactually 1 predicted 0.3850311 \u001b[31m\"wrong\"\u001b[0m\nactually 0 predicted 0.009254354 \u001b[32m\"correct\"\u001b[0m\nactually 0 predicted 0.07188476 \u001b[32m\"correct\"\u001b[0m\nactually 1 predicted 0.3885055 \u001b[31m\"wrong\"\u001b[0m\nactually 0 predicted 0.52005684 \u001b[31m\"wrong\"\u001b[0m\nactually 1 predicted 0.9732669 \u001b[32m\"correct\"\u001b[0m\nactually 0 predicted 0.7417263 \u001b[31m\"wrong\"\u001b[0m\nactually 1 predicted 0.8213234 \u001b[32m\"correct\"\u001b[0m\nactually 0 predicted 0.074896894 \u001b[32m\"correct\"\u001b[0m\nactually 1 predicted 0.7042904 \u001b[32m\"correct\"\u001b[0m\nactually 0 predicted 0.0076331897 \u001b[32m\"correct\"\u001b[0m\nactually 0 predicted 0.026875734 \u001b[32m\"correct\"\u001b[0m\nactually 1 predicted 0.37134272 \u001b[31m\"wrong\"\u001b[0m\nactually 0 predicted 0.10626767 \u001b[32m\"correct\"\u001b[0m\nactually 0 predicted 0.21786827 \u001b[32m\"correct\"\u001b[0m\nactually 1 predicted 0.98679835 \u001b[32m\"correct\"\u001b[0m\nactually 1 predicted 0.4137911 \u001b[31m\"wrong\"\u001b[0m\nactually 0 predicted 0.07522855 \u001b[32m\"correct\"\u001b[0m\nactually 0 predicted 0.047057346 \u001b[32m\"correct\"\u001b[0m\nactually 0 predicted 0.22847915 \u001b[32m\"correct\"\u001b[0m\nactually 1 predicted 0.95703274 \u001b[32m\"correct\"\u001b[0m\n"
    }
   ],
   "source": [
    "(review, label) = next(iter(test_data.batch(30)))\n",
    "predictionTensor = probability_model(review)\n",
    "predictionSqueezed = tf.squeeze(predictionTensor, 1)\n",
    "\n",
    "for p, l in zip(predictionSqueezed.numpy(), label.numpy()):\n",
    "  print('actually', l, 'predicted', p, \"\\x1b[32m\\\"correct\\\"\\x1b[0m\" if (l==1 and p>=0.5) or (l==0 and p<0.5) else \"\\x1b[31m\\\"wrong\\\"\\x1b[0m\")"
   ]
  }
 ],
 "metadata": {
  "language_info": {
   "codemirror_mode": {
    "name": "ipython",
    "version": 3
   },
   "file_extension": ".py",
   "mimetype": "text/x-python",
   "name": "python",
   "nbconvert_exporter": "python",
   "pygments_lexer": "ipython3",
   "version": "3.7.4-final"
  },
  "orig_nbformat": 2,
  "kernelspec": {
   "name": "python3",
   "display_name": "Python 3"
  }
 },
 "nbformat": 4,
 "nbformat_minor": 2
}