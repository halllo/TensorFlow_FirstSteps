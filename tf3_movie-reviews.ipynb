{
 "cells": [
  {
   "cell_type": "markdown",
   "metadata": {},
   "source": [
    "# Movie Review Text Classification\n",
    "This tutorial https://www.tensorflow.org/tutorials/keras/text_classification_with_hub"
   ]
  },
  {
   "cell_type": "code",
   "execution_count": 3,
   "metadata": {},
   "outputs": [
    {
     "output_type": "stream",
     "name": "stdout",
     "text": "Version:  2.2.0-dev20200429\nEager mode:  True\nHub version:  0.8.0\nGPU is NOT AVAILABLE\n"
    }
   ],
   "source": [
    "import numpy as np\n",
    "\n",
    "import tensorflow as tf\n",
    "\n",
    "!pip install -q tensorflow-hub\n",
    "!pip install -q tfds-nightly\n",
    "import tensorflow_hub as hub\n",
    "import tensorflow_datasets as tfds\n",
    "\n",
    "print(\"Version: \", tf.__version__)\n",
    "print(\"Eager mode: \", tf.executing_eagerly())\n",
    "print(\"Hub version: \", hub.__version__)\n",
    "print(\"GPU is\", \"available\" if tf.config.experimental.list_physical_devices(\"GPU\") else \"NOT AVAILABLE\")"
   ]
  },
  {
   "cell_type": "code",
   "execution_count": 4,
   "metadata": {},
   "outputs": [
    {
     "output_type": "stream",
     "name": "stdout",
     "text": "\u001b[1mDownloading and preparing dataset imdb_reviews/plain_text/1.0.0 (download: 80.23 MiB, generated: Unknown size, total: 80.23 MiB) to /home/jovyan/tensorflow_datasets/imdb_reviews/plain_text/1.0.0...\u001b[0m\n"
    },
    {
     "output_type": "display_data",
     "data": {
      "text/plain": "HBox(children=(FloatProgress(value=1.0, bar_style='info', description='Dl Completed...', max=1.0, style=Progre…",
      "application/vnd.jupyter.widget-view+json": {
       "version_major": 2,
       "version_minor": 0,
       "model_id": "d4257bcb1b534d61a6a282b37b07c7e7"
      }
     },
     "metadata": {}
    },
    {
     "output_type": "display_data",
     "data": {
      "text/plain": "HBox(children=(FloatProgress(value=1.0, bar_style='info', description='Dl Size...', max=1.0, style=ProgressSty…",
      "application/vnd.jupyter.widget-view+json": {
       "version_major": 2,
       "version_minor": 0,
       "model_id": "5b250dcf028d4602a908e3d4be210a30"
      }
     },
     "metadata": {}
    },
    {
     "output_type": "stream",
     "name": "stdout",
     "text": "\n\n\n\n"
    },
    {
     "output_type": "display_data",
     "data": {
      "text/plain": "HBox(children=(FloatProgress(value=1.0, bar_style='info', max=1.0), HTML(value='')))",
      "application/vnd.jupyter.widget-view+json": {
       "version_major": 2,
       "version_minor": 0,
       "model_id": "3519773bd062471dabfac5adadd556c0"
      }
     },
     "metadata": {}
    },
    {
     "output_type": "stream",
     "name": "stdout",
     "text": "Shuffling and writing examples to /home/jovyan/tensorflow_datasets/imdb_reviews/plain_text/1.0.0.incompleteMROA0G/imdb_reviews-train.tfrecord\n"
    },
    {
     "output_type": "display_data",
     "data": {
      "text/plain": "HBox(children=(FloatProgress(value=0.0, max=25000.0), HTML(value='')))",
      "application/vnd.jupyter.widget-view+json": {
       "version_major": 2,
       "version_minor": 0,
       "model_id": "6174845e94d3412690c7511fac31ba6b"
      }
     },
     "metadata": {}
    },
    {
     "output_type": "display_data",
     "data": {
      "text/plain": "HBox(children=(FloatProgress(value=1.0, bar_style='info', max=1.0), HTML(value='')))",
      "application/vnd.jupyter.widget-view+json": {
       "version_major": 2,
       "version_minor": 0,
       "model_id": "e8fcd6414f194a61ac7de47f87b93bb4"
      }
     },
     "metadata": {}
    },
    {
     "output_type": "stream",
     "name": "stdout",
     "text": "Shuffling and writing examples to /home/jovyan/tensorflow_datasets/imdb_reviews/plain_text/1.0.0.incompleteMROA0G/imdb_reviews-test.tfrecord\n"
    },
    {
     "output_type": "display_data",
     "data": {
      "text/plain": "HBox(children=(FloatProgress(value=0.0, max=25000.0), HTML(value='')))",
      "application/vnd.jupyter.widget-view+json": {
       "version_major": 2,
       "version_minor": 0,
       "model_id": "d51ba9e8405747da80e9cf9025b80276"
      }
     },
     "metadata": {}
    },
    {
     "output_type": "display_data",
     "data": {
      "text/plain": "HBox(children=(FloatProgress(value=1.0, bar_style='info', max=1.0), HTML(value='')))",
      "application/vnd.jupyter.widget-view+json": {
       "version_major": 2,
       "version_minor": 0,
       "model_id": "9a5bf04b444f48f09bbb1e7274a1ec68"
      }
     },
     "metadata": {}
    },
    {
     "output_type": "stream",
     "name": "stdout",
     "text": "Shuffling and writing examples to /home/jovyan/tensorflow_datasets/imdb_reviews/plain_text/1.0.0.incompleteMROA0G/imdb_reviews-unsupervised.tfrecord\n"
    },
    {
     "output_type": "display_data",
     "data": {
      "text/plain": "HBox(children=(FloatProgress(value=0.0, max=50000.0), HTML(value='')))",
      "application/vnd.jupyter.widget-view+json": {
       "version_major": 2,
       "version_minor": 0,
       "model_id": "ec4794b9a2e6472ba217d6d1e462daa9"
      }
     },
     "metadata": {}
    },
    {
     "output_type": "stream",
     "name": "stdout",
     "text": "\u001b[1mDataset imdb_reviews downloaded and prepared to /home/jovyan/tensorflow_datasets/imdb_reviews/plain_text/1.0.0. Subsequent calls will reuse this data.\u001b[0m\n"
    }
   ],
   "source": [
    "# Split the training set into 60% and 40%, so we'll end up with 15,000 examples\n",
    "# for training, 10,000 examples for validation and 25,000 examples for testing.\n",
    "train_data, validation_data, test_data = tfds.load(\n",
    "    name=\"imdb_reviews\", \n",
    "    split=('train[:60%]', 'train[60%:]', 'test'),\n",
    "    as_supervised=True)"
   ]
  },
  {
   "cell_type": "code",
   "execution_count": 5,
   "metadata": {},
   "outputs": [
    {
     "output_type": "execute_result",
     "data": {
      "text/plain": "(<tf.Tensor: shape=(5,), dtype=string, numpy=\n array([b\"This was an absolutely terrible movie. Don't be lured in by Christopher Walken or Michael Ironside. Both are great actors, but this must simply be their worst role in history. Even their great acting could not redeem this movie's ridiculous storyline. This movie is an early nineties US propaganda piece. The most pathetic scenes were those when the Columbian rebels were making their cases for revolutions. Maria Conchita Alonso appeared phony, and her pseudo-love affair with Walken was nothing but a pathetic emotional plug in a movie that was devoid of any real meaning. I am disappointed that there are movies like this, ruining actor's like Christopher Walken's good name. I could barely sit through it.\",\n        b'I have been known to fall asleep during films, but this is usually due to a combination of things including, really tired, being warm and comfortable on the sette and having just eaten a lot. However on this occasion I fell asleep because the film was rubbish. The plot development was constant. Constantly slow and boring. Things seemed to happen, but with no explanation of what was causing them or why. I admit, I may have missed part of the film, but i watched the majority of it and everything just seemed to happen of its own accord without any real concern for anything else. I cant recommend this film at all.',\n        b'Mann photographs the Alberta Rocky Mountains in a superb fashion, and Jimmy Stewart and Walter Brennan give enjoyable performances as they always seem to do. <br /><br />But come on Hollywood - a Mountie telling the people of Dawson City, Yukon to elect themselves a marshal (yes a marshal!) and to enforce the law themselves, then gunfighters battling it out on the streets for control of the town? <br /><br />Nothing even remotely resembling that happened on the Canadian side of the border during the Klondike gold rush. Mr. Mann and company appear to have mistaken Dawson City for Deadwood, the Canadian North for the American Wild West.<br /><br />Canadian viewers be prepared for a Reefer Madness type of enjoyable howl with this ludicrous plot, or, to shake your head in disgust.',\n        b'This is the kind of film for a snowy Sunday afternoon when the rest of the world can go ahead with its own business as you descend into a big arm-chair and mellow for a couple of hours. Wonderful performances from Cher and Nicolas Cage (as always) gently row the plot along. There are no rapids to cross, no dangerous waters, just a warm and witty paddle through New York life at its best. A family film in every sense and one that deserves the praise it received.',\n        b'As others have mentioned, all the women that go nude in this film are mostly absolutely gorgeous. The plot very ably shows the hypocrisy of the female libido. When men are around they want to be pursued, but when no \"men\" are around, they become the pursuers of a 14 year old boy. And the boy becomes a man really fast (we should all be so lucky at this age!). He then gets up the courage to pursue his true love.'],\n       dtype=object)>,\n <tf.Tensor: shape=(5,), dtype=int64, numpy=array([0, 0, 0, 1, 1])>)"
     },
     "metadata": {},
     "execution_count": 5
    }
   ],
   "source": [
    "train_examples_batch, train_labels_batch = next(iter(train_data.batch(5)))\n",
    "train_examples_batch, train_labels_batch"
   ]
  },
  {
   "cell_type": "code",
   "execution_count": 6,
   "metadata": {},
   "outputs": [
    {
     "output_type": "execute_result",
     "data": {
      "text/plain": "<tf.Tensor: shape=(3, 20), dtype=float32, numpy=\narray([[ 1.765786  , -3.882232  ,  3.9134233 , -1.5557289 , -3.3362343 ,\n        -1.7357955 , -1.9954445 ,  1.2989551 ,  5.081598  , -1.1041286 ,\n        -2.0503852 , -0.72675157, -0.65675956,  0.24436149, -3.7208383 ,\n         2.0954835 ,  2.2969332 , -2.0689783 , -2.9489717 , -1.1315987 ],\n       [ 1.8804485 , -2.5852382 ,  3.4066997 ,  1.0982676 , -4.056685  ,\n        -4.891284  , -2.785554  ,  1.3874227 ,  3.8476458 , -0.9256538 ,\n        -1.896706  ,  1.2113281 ,  0.11474707,  0.76209456, -4.8791065 ,\n         2.906149  ,  4.7087674 , -2.3652055 , -3.5015898 , -1.6390051 ],\n       [ 0.71152234, -0.6353217 ,  1.7385626 , -1.1168286 , -0.5451594 ,\n        -1.1808156 ,  0.09504455,  1.4653089 ,  0.66059524,  0.79308075,\n        -2.2268345 ,  0.07446612, -1.4075904 , -0.70645386, -1.907037  ,\n         1.4419787 ,  1.9551861 , -0.42660055, -2.8022065 ,  0.43727064]],\n      dtype=float32)>"
     },
     "metadata": {},
     "execution_count": 6
    }
   ],
   "source": [
    "embedding = \"https://tfhub.dev/google/tf2-preview/gnews-swivel-20dim/1\"\n",
    "hub_layer = hub.KerasLayer(embedding, input_shape=[], \n",
    "                           dtype=tf.string, trainable=True)\n",
    "hub_layer(train_examples_batch[:3])"
   ]
  },
  {
   "cell_type": "code",
   "execution_count": 7,
   "metadata": {},
   "outputs": [
    {
     "output_type": "stream",
     "name": "stdout",
     "text": "Model: \"sequential\"\n_________________________________________________________________\nLayer (type)                 Output Shape              Param #   \n=================================================================\nkeras_layer (KerasLayer)     (None, 20)                400020    \n_________________________________________________________________\ndense (Dense)                (None, 16)                336       \n_________________________________________________________________\ndense_1 (Dense)              (None, 1)                 17        \n=================================================================\nTotal params: 400,373\nTrainable params: 400,373\nNon-trainable params: 0\n_________________________________________________________________\n"
    }
   ],
   "source": [
    "model = tf.keras.Sequential()\n",
    "model.add(hub_layer)\n",
    "model.add(tf.keras.layers.Dense(16, activation='relu'))\n",
    "model.add(tf.keras.layers.Dense(1, activation='sigmoid'))\n",
    "\n",
    "model.summary()"
   ]
  },
  {
   "cell_type": "code",
   "execution_count": 8,
   "metadata": {},
   "outputs": [],
   "source": [
    "model.compile(optimizer='adam',\n",
    "              loss=tf.keras.losses.BinaryCrossentropy(from_logits=True),\n",
    "              metrics=['accuracy'])"
   ]
  },
  {
   "cell_type": "code",
   "execution_count": 9,
   "metadata": {},
   "outputs": [
    {
     "output_type": "stream",
     "name": "stdout",
     "text": "Epoch 1/20\n30/30 [==============================] - 2s 72ms/step - loss: 0.6717 - accuracy: 0.5854 - val_loss: 0.6638 - val_accuracy: 0.6120\nEpoch 2/20\n30/30 [==============================] - 2s 72ms/step - loss: 0.6608 - accuracy: 0.6277 - val_loss: 0.6552 - val_accuracy: 0.6548\nEpoch 3/20\n30/30 [==============================] - 2s 74ms/step - loss: 0.6516 - accuracy: 0.6647 - val_loss: 0.6460 - val_accuracy: 0.6744\nEpoch 4/20\n30/30 [==============================] - 2s 69ms/step - loss: 0.6414 - accuracy: 0.6935 - val_loss: 0.6355 - val_accuracy: 0.7055\nEpoch 5/20\n30/30 [==============================] - 2s 67ms/step - loss: 0.6288 - accuracy: 0.7323 - val_loss: 0.6235 - val_accuracy: 0.7464\nEpoch 6/20\n30/30 [==============================] - 2s 70ms/step - loss: 0.6158 - accuracy: 0.7662 - val_loss: 0.6132 - val_accuracy: 0.7755\nEpoch 7/20\n30/30 [==============================] - 2s 70ms/step - loss: 0.6046 - accuracy: 0.7933 - val_loss: 0.6046 - val_accuracy: 0.7833\nEpoch 8/20\n30/30 [==============================] - 2s 71ms/step - loss: 0.5949 - accuracy: 0.8171 - val_loss: 0.5972 - val_accuracy: 0.7986\nEpoch 9/20\n30/30 [==============================] - 2s 67ms/step - loss: 0.5857 - accuracy: 0.8351 - val_loss: 0.5916 - val_accuracy: 0.8221\nEpoch 10/20\n30/30 [==============================] - 2s 69ms/step - loss: 0.5784 - accuracy: 0.8520 - val_loss: 0.5867 - val_accuracy: 0.8225\nEpoch 11/20\n30/30 [==============================] - 2s 73ms/step - loss: 0.5721 - accuracy: 0.8652 - val_loss: 0.5831 - val_accuracy: 0.8361\nEpoch 12/20\n30/30 [==============================] - 2s 70ms/step - loss: 0.5667 - accuracy: 0.8770 - val_loss: 0.5800 - val_accuracy: 0.8387\nEpoch 13/20\n30/30 [==============================] - 2s 69ms/step - loss: 0.5620 - accuracy: 0.8862 - val_loss: 0.5777 - val_accuracy: 0.8504\nEpoch 14/20\n30/30 [==============================] - 2s 73ms/step - loss: 0.5576 - accuracy: 0.8967 - val_loss: 0.5756 - val_accuracy: 0.8540\nEpoch 15/20\n30/30 [==============================] - 2s 77ms/step - loss: 0.5538 - accuracy: 0.9039 - val_loss: 0.5737 - val_accuracy: 0.8576\nEpoch 16/20\n30/30 [==============================] - 2s 69ms/step - loss: 0.5501 - accuracy: 0.9119 - val_loss: 0.5719 - val_accuracy: 0.8586\nEpoch 17/20\n30/30 [==============================] - 2s 68ms/step - loss: 0.5469 - accuracy: 0.9181 - val_loss: 0.5706 - val_accuracy: 0.8608\nEpoch 18/20\n30/30 [==============================] - 2s 67ms/step - loss: 0.5441 - accuracy: 0.9256 - val_loss: 0.5692 - val_accuracy: 0.8607\nEpoch 19/20\n30/30 [==============================] - 2s 69ms/step - loss: 0.5416 - accuracy: 0.9297 - val_loss: 0.5683 - val_accuracy: 0.8613\nEpoch 20/20\n30/30 [==============================] - 2s 80ms/step - loss: 0.5395 - accuracy: 0.9341 - val_loss: 0.5676 - val_accuracy: 0.8632\n"
    }
   ],
   "source": [
    "history = model.fit(train_data.shuffle(10000).batch(512),\n",
    "                    epochs=20,\n",
    "                    validation_data=validation_data.batch(512),\n",
    "                    verbose=1)"
   ]
  },
  {
   "cell_type": "code",
   "execution_count": 10,
   "metadata": {},
   "outputs": [
    {
     "output_type": "stream",
     "name": "stdout",
     "text": "49/49 - 2s - loss: 0.5714 - accuracy: 0.8520\nloss: 0.571\naccuracy: 0.852\n"
    }
   ],
   "source": [
    "results = model.evaluate(test_data.batch(512), verbose=2)\n",
    "\n",
    "for name, value in zip(model.metrics_names, results):\n",
    "  print(\"%s: %.3f\" % (name, value))"
   ]
  },
  {
   "cell_type": "code",
   "execution_count": 13,
   "metadata": {
    "tags": [
     "outputPrepend"
    ]
   },
   "outputs": [
    {
     "output_type": "execute_result",
     "data": {
      "text/plain": "(array([[0.1721141 ],\n        [0.917421  ],\n        [0.01723057],\n        [0.00043312],\n        [0.99976087],\n        [0.9999311 ],\n        [0.999989  ],\n        [0.9993308 ],\n        [0.6404022 ],\n        [0.07469702],\n        [0.0000003 ],\n        [0.0022535 ],\n        [0.24444205],\n        [0.39690885],\n        [0.99969184],\n        [0.42759222],\n        [0.7785633 ],\n        [0.00051631],\n        [0.99172324],\n        [0.00020682]], dtype=float32),\n <tf.Tensor: shape=(20,), dtype=int64, numpy=array([1, 1, 0, 0, 1, 1, 1, 1, 0, 1, 0, 0, 1, 0, 1, 0, 1, 0, 1, 0])>)"
     },
     "metadata": {},
     "execution_count": 13
    }
   ],
   "source": [
    "np.set_printoptions(suppress=True)\n",
    "(review, label) = next(iter(test_data.batch(20)))\n",
    "prediction = model.predict(review)\n",
    "(prediction, label)"
   ]
  },
  {
   "cell_type": "code",
   "execution_count": null,
   "metadata": {},
   "outputs": [],
   "source": []
  }
 ],
 "metadata": {
  "language_info": {
   "codemirror_mode": {
    "name": "ipython",
    "version": 3
   },
   "file_extension": ".py",
   "mimetype": "text/x-python",
   "name": "python",
   "nbconvert_exporter": "python",
   "pygments_lexer": "ipython3",
   "version": "3.7.4-final"
  },
  "orig_nbformat": 2,
  "kernelspec": {
   "name": "python3",
   "display_name": "Python 3"
  }
 },
 "nbformat": 4,
 "nbformat_minor": 2
}